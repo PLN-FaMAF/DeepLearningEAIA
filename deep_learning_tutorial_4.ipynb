{
 "cells": [
  {
   "cell_type": "markdown",
   "metadata": {},
   "source": [
    "# Express Deep Learning in Python - Examples\n",
    "\n",
    "We will run a couple of examples to see how different parameters affect the performance of the classifier."
   ]
  },
  {
   "cell_type": "code",
   "execution_count": 31,
   "metadata": {},
   "outputs": [],
   "source": [
    "import numpy\n",
    "import keras\n",
    "import os\n",
    "\n",
    "from keras import backend as K\n",
    "from keras import losses, optimizers, regularizers\n",
    "from keras.datasets import mnist\n",
    "from keras.layers import Activation, ActivityRegularization, Conv2D, Dense, Dropout, Flatten, MaxPooling2D\n",
    "from keras.models import Sequential\n",
    "from keras.utils.np_utils import to_categorical\n",
    "\n",
    "from keras.callbacks import TensorBoard"
   ]
  },
  {
   "cell_type": "code",
   "execution_count": 32,
   "metadata": {},
   "outputs": [
    {
     "name": "stdout",
     "output_type": "stream",
     "text": [
      "Train samples: 60000\n",
      "Test samples: 10000\n"
     ]
    }
   ],
   "source": [
    "batch_size = 128\n",
    "num_classes = 10\n",
    "epochs = 10\n",
    "TRAIN_EXAMPLES = 60000\n",
    "TEST_EXAMPLES = 10000\n",
    "\n",
    "# image dimensions\n",
    "img_rows, img_cols = 28, 28\n",
    "\n",
    "# load the data (already shuffled and splitted)\n",
    "(x_train, y_train), (x_test, y_test) = mnist.load_data()\n",
    "\n",
    "# reshape the data to add the \"channels\" dimension\n",
    "x_train = x_train.reshape(x_train.shape[0], img_rows, img_cols, 1)\n",
    "x_test = x_test.reshape(x_test.shape[0], img_rows, img_cols, 1)\n",
    "input_shape = (img_rows, img_cols, 1)\n",
    "\n",
    "# normalize the input in the range [0, 1]\n",
    "# to make quick runs, select a smaller set of images.\n",
    "train_mask = numpy.random.choice(x_train.shape[0], TRAIN_EXAMPLES, replace=False)\n",
    "x_train = x_train[train_mask, :].astype('float32')\n",
    "y_train = y_train[train_mask]\n",
    "test_mask = numpy.random.choice(x_test.shape[0], TEST_EXAMPLES, replace=False)\n",
    "x_test = x_test[test_mask, :].astype('float32')\n",
    "y_test = y_test[test_mask]\n",
    "\n",
    "x_train /= 255\n",
    "x_test /= 255\n",
    "\n",
    "print('Train samples: %d' % x_train.shape[0])\n",
    "print('Test samples: %d' % x_test.shape[0])\n",
    "\n",
    "# convert class vectors to binary class matrices\n",
    "y_train = to_categorical(y_train, num_classes)\n",
    "y_test = to_categorical(y_test, num_classes)"
   ]
  },
  {
   "cell_type": "markdown",
   "metadata": {},
   "source": [
    "### Convolutional 1"
   ]
  },
  {
   "cell_type": "code",
   "execution_count": 33,
   "metadata": {
    "collapsed": true
   },
   "outputs": [],
   "source": [
    "EXPERIMENT_COUNTER = 4"
   ]
  },
  {
   "cell_type": "code",
   "execution_count": 34,
   "metadata": {
    "collapsed": true
   },
   "outputs": [],
   "source": [
    "def write_summary(filename, model):\n",
    "    with open(filename, 'w') as log_file:\n",
    "        model.summary(print_fn=lambda x: log_file.write(x + '\\n'))"
   ]
  },
  {
   "cell_type": "code",
   "execution_count": 48,
   "metadata": {
    "collapsed": true
   },
   "outputs": [],
   "source": [
    "def evaluate_model(model, experiment_name=EXPERIMENT_COUNTER):\n",
    "    # train the model\n",
    "    logs_dirname = './logs/experiment-{}'.format(experiment_name)\n",
    "    tensorboard = TensorBoard(log_dir=logs_dirname, histogram_freq=0,\n",
    "                          write_graph=False, write_images=False)\n",
    "    epochs = 20\n",
    "    history = model.fit(x_train, y_train,\n",
    "                        batch_size=batch_size,\n",
    "                        epochs=epochs,\n",
    "                        verbose=1,\n",
    "                        validation_data=(x_test, y_test),\n",
    "                        callbacks=[tensorboard])\n",
    "    # TIP: write the model summary to keep track of your experiments\n",
    "    write_summary(os.path.join(logs_dirname, 'model-summary.txt'), model)\n",
    "\n",
    "    # evaluate the model\n",
    "    return model.evaluate(x_test, y_test, verbose=0)"
   ]
  },
  {
   "cell_type": "code",
   "execution_count": 10,
   "metadata": {
    "collapsed": true
   },
   "outputs": [],
   "source": [
    "# define the network architecture\n",
    "model = Sequential()\n",
    "model.add(Conv2D(filters=16,\n",
    "                 kernel_size=(3, 3),\n",
    "                 strides=(1,1),\n",
    "                 padding='valid',\n",
    "                 activation='relu',\n",
    "                 input_shape=input_shape,\n",
    "                 activity_regularizer='l2'))\n",
    "model.add(Conv2D(32, (3, 3), activation='relu'))\n",
    "model.add(MaxPooling2D(pool_size=(2, 2)))\n",
    "model.add(Dropout(0.25))\n",
    "model.add(Flatten())\n",
    "model.add(Dense(128, activation='relu'))\n",
    "model.add(Dropout(0.5))\n",
    "model.add(Dense(num_classes, activation='softmax'))\n",
    "\n",
    "# compile the model\n",
    "model.compile(loss=losses.categorical_crossentropy,\n",
    "              optimizer=optimizers.RMSprop(),\n",
    "              metrics=['accuracy', 'mae'])"
   ]
  },
  {
   "cell_type": "code",
   "execution_count": 14,
   "metadata": {},
   "outputs": [
    {
     "name": "stdout",
     "output_type": "stream",
     "text": [
      "Train on 60000 samples, validate on 10000 samples\n",
      "Epoch 1/20\n",
      "60000/60000 [==============================] - 37s - loss: 6.2937 - acc: 0.8517 - mean_absolute_error: 0.0595 - val_loss: 0.2786 - val_acc: 0.9516 - val_mean_absolute_error: 0.0195\n",
      "Epoch 2/20\n",
      "60000/60000 [==============================] - 36s - loss: 0.2862 - acc: 0.9376 - mean_absolute_error: 0.0229 - val_loss: 0.1703 - val_acc: 0.9662 - val_mean_absolute_error: 0.0129\n",
      "Epoch 3/20\n",
      "60000/60000 [==============================] - 36s - loss: 0.2088 - acc: 0.9526 - mean_absolute_error: 0.0165 - val_loss: 0.1470 - val_acc: 0.9701 - val_mean_absolute_error: 0.0095\n",
      "Epoch 4/20\n",
      "60000/60000 [==============================] - 36s - loss: 0.1781 - acc: 0.9600 - mean_absolute_error: 0.0139 - val_loss: 0.1284 - val_acc: 0.9719 - val_mean_absolute_error: 0.0090\n",
      "Epoch 5/20\n",
      "60000/60000 [==============================] - 36s - loss: 0.1593 - acc: 0.9628 - mean_absolute_error: 0.0124 - val_loss: 0.1049 - val_acc: 0.9771 - val_mean_absolute_error: 0.0067\n",
      "Epoch 6/20\n",
      "60000/60000 [==============================] - 37s - loss: 0.1437 - acc: 0.9662 - mean_absolute_error: 0.0110 - val_loss: 0.0913 - val_acc: 0.9793 - val_mean_absolute_error: 0.0063\n",
      "Epoch 7/20\n",
      "60000/60000 [==============================] - 36s - loss: 0.1364 - acc: 0.9685 - mean_absolute_error: 0.0104 - val_loss: 0.1006 - val_acc: 0.9795 - val_mean_absolute_error: 0.0058\n",
      "Epoch 8/20\n",
      "60000/60000 [==============================] - 36s - loss: 0.1298 - acc: 0.9692 - mean_absolute_error: 0.0099 - val_loss: 0.0967 - val_acc: 0.9785 - val_mean_absolute_error: 0.0057\n",
      "Epoch 9/20\n",
      "60000/60000 [==============================] - 36s - loss: 0.1235 - acc: 0.9718 - mean_absolute_error: 0.0092 - val_loss: 0.0908 - val_acc: 0.9781 - val_mean_absolute_error: 0.0061\n",
      "Epoch 10/20\n",
      "60000/60000 [==============================] - 36s - loss: 0.1164 - acc: 0.9730 - mean_absolute_error: 0.0087 - val_loss: 0.0747 - val_acc: 0.9827 - val_mean_absolute_error: 0.0053\n",
      "Epoch 11/20\n",
      "60000/60000 [==============================] - 36s - loss: 0.1152 - acc: 0.9740 - mean_absolute_error: 0.0085 - val_loss: 0.0807 - val_acc: 0.9800 - val_mean_absolute_error: 0.0065\n",
      "Epoch 12/20\n",
      "60000/60000 [==============================] - 36s - loss: 0.1143 - acc: 0.9740 - mean_absolute_error: 0.0082 - val_loss: 0.0790 - val_acc: 0.9829 - val_mean_absolute_error: 0.0045\n",
      "Epoch 13/20\n",
      "60000/60000 [==============================] - 36s - loss: 0.1116 - acc: 0.9740 - mean_absolute_error: 0.0081 - val_loss: 0.0762 - val_acc: 0.9823 - val_mean_absolute_error: 0.0048\n",
      "Epoch 14/20\n",
      "60000/60000 [==============================] - 36s - loss: 0.1094 - acc: 0.9752 - mean_absolute_error: 0.0078 - val_loss: 0.0804 - val_acc: 0.9821 - val_mean_absolute_error: 0.0045\n",
      "Epoch 15/20\n",
      "60000/60000 [==============================] - 36s - loss: 0.1084 - acc: 0.9753 - mean_absolute_error: 0.0078 - val_loss: 0.0794 - val_acc: 0.9804 - val_mean_absolute_error: 0.0080\n",
      "Epoch 16/20\n",
      "60000/60000 [==============================] - 36s - loss: 0.1074 - acc: 0.9757 - mean_absolute_error: 0.0077 - val_loss: 0.0775 - val_acc: 0.9816 - val_mean_absolute_error: 0.0046\n",
      "Epoch 17/20\n",
      "60000/60000 [==============================] - 36s - loss: 0.1076 - acc: 0.9760 - mean_absolute_error: 0.0075 - val_loss: 0.0820 - val_acc: 0.9786 - val_mean_absolute_error: 0.0075\n",
      "Epoch 18/20\n",
      "60000/60000 [==============================] - 36s - loss: 0.1069 - acc: 0.9768 - mean_absolute_error: 0.0075 - val_loss: 0.0734 - val_acc: 0.9822 - val_mean_absolute_error: 0.0049\n",
      "Epoch 19/20\n",
      "60000/60000 [==============================] - 36s - loss: 0.1056 - acc: 0.9770 - mean_absolute_error: 0.0074 - val_loss: 0.0678 - val_acc: 0.9838 - val_mean_absolute_error: 0.0050\n",
      "Epoch 20/20\n",
      "60000/60000 [==============================] - 36s - loss: 0.1058 - acc: 0.9765 - mean_absolute_error: 0.0074 - val_loss: 0.0613 - val_acc: 0.9847 - val_mean_absolute_error: 0.0044\n"
     ]
    },
    {
     "data": {
      "text/plain": [
       "[0.04902356365174055, 0.98470000000000002, 0.0043716243533417579]"
      ]
     },
     "execution_count": 14,
     "metadata": {},
     "output_type": "execute_result"
    }
   ],
   "source": [
    "evaluate_model(model)\n",
    "EXPERIMENT_COUNTER += 1"
   ]
  },
  {
   "cell_type": "markdown",
   "metadata": {},
   "source": [
    "### Convolutional 2"
   ]
  },
  {
   "cell_type": "code",
   "execution_count": 46,
   "metadata": {
    "collapsed": true
   },
   "outputs": [],
   "source": [
    "# define the network architecture\n",
    "model = Sequential()\n",
    "model.add(Conv2D(filters=16,\n",
    "                 kernel_size=(3, 3),\n",
    "                 strides=(1,1),\n",
    "                 padding='valid',\n",
    "                 activation='sigmoid',\n",
    "                 input_shape=input_shape,\n",
    "                 activity_regularizer='l2'))\n",
    "model.add(MaxPooling2D(pool_size=(2, 2)))\n",
    "model.add(Dropout(0.25))\n",
    "model.add(Flatten())\n",
    "model.add(Dense(128, activation='sigmoid'))\n",
    "model.add(Dropout(0.25))\n",
    "model.add(Dense(num_classes, activation='softmax'))\n",
    "\n",
    "# compile the model\n",
    "model.compile(loss=losses.categorical_crossentropy,\n",
    "              optimizer=optimizers.RMSprop(),\n",
    "              metrics=['accuracy', 'mae'])"
   ]
  },
  {
   "cell_type": "code",
   "execution_count": 49,
   "metadata": {},
   "outputs": [
    {
     "name": "stdout",
     "output_type": "stream",
     "text": [
      "Train on 60000 samples, validate on 10000 samples\n",
      "Epoch 1/20\n",
      "60000/60000 [==============================] - 14s - loss: 2212.1909 - acc: 0.4919 - mean_absolute_error: 0.1331 - val_loss: 1478.8597 - val_acc: 0.8306 - val_mean_absolute_error: 0.0632\n",
      "Epoch 2/20\n",
      "60000/60000 [==============================] - 14s - loss: 1081.5625 - acc: 0.8475 - mean_absolute_error: 0.0536 - val_loss: 752.2486 - val_acc: 0.8850 - val_mean_absolute_error: 0.0405\n",
      "Epoch 3/20\n",
      "60000/60000 [==============================] - 14s - loss: 538.8397 - acc: 0.8803 - mean_absolute_error: 0.0415 - val_loss: 363.0824 - val_acc: 0.8976 - val_mean_absolute_error: 0.0368\n",
      "Epoch 4/20\n",
      "60000/60000 [==============================] - 14s - loss: 253.5612 - acc: 0.8886 - mean_absolute_error: 0.0391 - val_loss: 165.6639 - val_acc: 0.9091 - val_mean_absolute_error: 0.0329\n",
      "Epoch 5/20\n",
      "60000/60000 [==============================] - 14s - loss: 113.4703 - acc: 0.8901 - mean_absolute_error: 0.0391 - val_loss: 72.4159 - val_acc: 0.9119 - val_mean_absolute_error: 0.0336\n",
      "Epoch 6/20\n",
      "60000/60000 [==============================] - 14s - loss: 48.9976 - acc: 0.8842 - mean_absolute_error: 0.0413 - val_loss: 30.7873 - val_acc: 0.9109 - val_mean_absolute_error: 0.0365\n",
      "Epoch 7/20\n",
      "60000/60000 [==============================] - 14s - loss: 20.7492 - acc: 0.8756 - mean_absolute_error: 0.0446 - val_loss: 12.9325 - val_acc: 0.9073 - val_mean_absolute_error: 0.0385\n",
      "Epoch 8/20\n",
      "60000/60000 [==============================] - 14s - loss: 8.8104 - acc: 0.8624 - mean_absolute_error: 0.0496 - val_loss: 5.4994 - val_acc: 0.9019 - val_mean_absolute_error: 0.0425\n",
      "Epoch 9/20\n",
      "60000/60000 [==============================] - 14s - loss: 3.9018 - acc: 0.8456 - mean_absolute_error: 0.0552 - val_loss: 2.4772 - val_acc: 0.8959 - val_mean_absolute_error: 0.0479\n",
      "Epoch 10/20\n",
      "60000/60000 [==============================] - 14s - loss: 1.9496 - acc: 0.8218 - mean_absolute_error: 0.0625 - val_loss: 1.2842 - val_acc: 0.8795 - val_mean_absolute_error: 0.0538\n",
      "Epoch 11/20\n",
      "60000/60000 [==============================] - 14s - loss: 1.2220 - acc: 0.7908 - mean_absolute_error: 0.0710 - val_loss: 0.8427 - val_acc: 0.8816 - val_mean_absolute_error: 0.0601\n",
      "Epoch 12/20\n",
      "60000/60000 [==============================] - 14s - loss: 0.9848 - acc: 0.7848 - mean_absolute_error: 0.0727 - val_loss: 0.7302 - val_acc: 0.8807 - val_mean_absolute_error: 0.0557\n",
      "Epoch 13/20\n",
      "60000/60000 [==============================] - 14s - loss: 0.8805 - acc: 0.8015 - mean_absolute_error: 0.0666 - val_loss: 0.6688 - val_acc: 0.8825 - val_mean_absolute_error: 0.0517\n",
      "Epoch 14/20\n",
      "60000/60000 [==============================] - 14s - loss: 0.8166 - acc: 0.8137 - mean_absolute_error: 0.0625 - val_loss: 0.6291 - val_acc: 0.8801 - val_mean_absolute_error: 0.0487\n",
      "Epoch 15/20\n",
      "60000/60000 [==============================] - 14s - loss: 0.7728 - acc: 0.8190 - mean_absolute_error: 0.0595 - val_loss: 0.5991 - val_acc: 0.8850 - val_mean_absolute_error: 0.0467\n",
      "Epoch 16/20\n",
      "60000/60000 [==============================] - 14s - loss: 0.7329 - acc: 0.8277 - mean_absolute_error: 0.0568 - val_loss: 0.5733 - val_acc: 0.8871 - val_mean_absolute_error: 0.0451\n",
      "Epoch 17/20\n",
      "60000/60000 [==============================] - 14s - loss: 0.7106 - acc: 0.8287 - mean_absolute_error: 0.0554 - val_loss: 0.5565 - val_acc: 0.8874 - val_mean_absolute_error: 0.0435\n",
      "Epoch 18/20\n",
      "60000/60000 [==============================] - 14s - loss: 0.6838 - acc: 0.8376 - mean_absolute_error: 0.0533 - val_loss: 0.5388 - val_acc: 0.8903 - val_mean_absolute_error: 0.0422\n",
      "Epoch 19/20\n",
      "60000/60000 [==============================] - 14s - loss: 0.6654 - acc: 0.8397 - mean_absolute_error: 0.0520 - val_loss: 0.5240 - val_acc: 0.8916 - val_mean_absolute_error: 0.0412\n",
      "Epoch 20/20\n",
      "60000/60000 [==============================] - 14s - loss: 0.6516 - acc: 0.8424 - mean_absolute_error: 0.0511 - val_loss: 0.5121 - val_acc: 0.8944 - val_mean_absolute_error: 0.0406\n"
     ]
    }
   ],
   "source": [
    "evaluate_model(model)\n",
    "EXPERIMENT_COUNTER += 1"
   ]
  },
  {
   "cell_type": "code",
   "execution_count": null,
   "metadata": {
    "collapsed": true
   },
   "outputs": [],
   "source": []
  }
 ],
 "metadata": {
  "kernelspec": {
   "display_name": "Python [conda env:keras]",
   "language": "python",
   "name": "conda-env-keras-py"
  },
  "language_info": {
   "codemirror_mode": {
    "name": "ipython",
    "version": 3
   },
   "file_extension": ".py",
   "mimetype": "text/x-python",
   "name": "python",
   "nbconvert_exporter": "python",
   "pygments_lexer": "ipython3",
   "version": "3.5.4"
  }
 },
 "nbformat": 4,
 "nbformat_minor": 2
}
